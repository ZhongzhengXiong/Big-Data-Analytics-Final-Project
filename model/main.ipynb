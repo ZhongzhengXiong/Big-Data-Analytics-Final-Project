{
 "cells": [
  {
   "cell_type": "code",
   "execution_count": 9,
   "metadata": {},
   "outputs": [],
   "source": [
    "import pandas as pd\n",
    "import numpy as np\n",
    "import lightgbm as lgb\n",
    "import statsmodels.api as sm\n",
    "import math\n",
    "import json\n",
    "import matplotlib.pyplot as plt\n",
    "from sklearn.utils import shuffle\n",
    "from sklearn.model_selection import train_test_split\n",
    "from sklearn.metrics import mean_squared_error\n",
    "from hyperopt import fmin, tpe, hp, space_eval, STATUS_OK\n",
    "from functools import partial\n",
    "from sklearn.cluster import KMeans"
   ]
  },
  {
   "cell_type": "code",
   "execution_count": 10,
   "metadata": {},
   "outputs": [],
   "source": [
    "train_data = pd.read_csv('train.csv', encoding='utf-8')\n",
    "train_data = shuffle(train_data)"
   ]
  },
  {
   "cell_type": "code",
   "execution_count": 11,
   "metadata": {},
   "outputs": [],
   "source": [
    "test_data = pd.read_csv('test.csv', encoding='utf-8')"
   ]
  },
  {
   "cell_type": "code",
   "execution_count": 79,
   "metadata": {},
   "outputs": [],
   "source": [
    "def encode_hour(hour):\n",
    "    if 6 <= hour and hour < 10:\n",
    "        return 0\n",
    "    if 10 <= hour and hour < 14:\n",
    "        return 1\n",
    "    if 14 <= hour and hour < 18:\n",
    "        return 2\n",
    "    if 18 <= hour and hour < 22:\n",
    "        return 3\n",
    "    if 22 <= hour or hour < 6:\n",
    "        return 4"
   ]
  },
  {
   "cell_type": "code",
   "execution_count": 82,
   "metadata": {
    "scrolled": true
   },
   "outputs": [],
   "source": [
    "train_data['hour_class'] = train_data['Hour'].apply(encode_hour)\n",
    "test_data['hour_class'] = test_data['Hour'].apply(encode_hour)"
   ]
  },
  {
   "cell_type": "code",
   "execution_count": 15,
   "metadata": {},
   "outputs": [],
   "source": [
    "direc_dic = {'E': [1, 0], 'NE': [0.7, 0.7], 'N': [0, 1], 'NW': [-0.7, 0.7], \n",
    "             'W': [-1, 0], 'SW': [-0.7, -0.7], 'S': [0, -1], 'SE': [0.7, -0.7] }\n",
    "heading_coor_name = ['x', 'y']\n",
    "# encoding direction\n",
    "for data in [train_data, test_data]:\n",
    "    for heading in ['EntryHeading', 'ExitHeading']:\n",
    "        for i in [0, 1]:\n",
    "            new_col = heading + '_' + heading_coor_name[i]\n",
    "            data[new_col] = data[heading].apply(lambda x: direc_dic[x][i])"
   ]
  },
  {
   "cell_type": "code",
   "execution_count": 16,
   "metadata": {},
   "outputs": [],
   "source": [
    "# encoding city\n",
    "city_dic = {'Atlanta':0, 'Boston':1, 'Chicago':2, 'Philadelphia':3}\n",
    "for data in [train_data, test_data]:\n",
    "    data['city_code'] = data['City'].apply(lambda x: city_dic[x])"
   ]
  },
  {
   "cell_type": "code",
   "execution_count": 161,
   "metadata": {},
   "outputs": [],
   "source": [
    "# unique id\n",
    "min_id = min(train_data['IntersectionId'].unique())\n",
    "max_id = max(train_data['IntersectionId'].unique())\n",
    "train_data['UniqueId'] = train_data['IntersectionId']\n",
    "test_data['UniqueId'] = test_data['IntersectionId']\n",
    "for i, city in enumerate(['Atlanta', 'Boston', 'Philadelphia', 'Chicago']):\n",
    "    train_city_df = train_data[train_data['City'] == city]\n",
    "    test_city_df = test_data[test_data['City'] == city]\n",
    "    train_data.loc[train_city_df.index, 'UniqueId'] = train_city_df['IntersectionId'] + i * (max_id - min_id)\n",
    "    test_data.loc[test_city_df.index, 'UniqueId'] = test_city_df['IntersectionId'] + i * (max_id - min_id)"
   ]
  },
  {
   "cell_type": "code",
   "execution_count": 143,
   "metadata": {},
   "outputs": [],
   "source": [
    "# handle latitude and longitude data\n",
    "train_data['city_pos'] = 0\n",
    "test_data['city_pos'] = 0\n",
    "\n",
    "for city in ['Atlanta', 'Boston', 'Philadelphia', 'Chicago']:\n",
    "    train_geo_df = train_data[train_data['City'] == city]\n",
    "    test_geo_df = test_data[test_data['City'] == city]\n",
    "    kmeans = KMeans(n_clusters=10).fit(train_geo_df[['Latitude', 'Longitude']])\n",
    "    train_data.loc[train_geo_df.index, 'city_pos'] = kmeans.labels_ + city_dic[city] * 10 \n",
    "    test_geo_pred = kmeans.predict(test_data.loc[test_geo_df.index][['Latitude', 'Longitude']])\n",
    "    test_data.loc[test_geo_df.index, 'city_pos'] = test_geo_pred + city_dic[city] * 10 \n",
    "\n",
    "#  fig = plt.figure(figsize=(16, 12))\n",
    "#  colors = ['b', 'g', 'r', 'c', 'm', 'y', 'k', 'aqua', 'brown', 'darkblue']\n",
    "#  print color\n",
    "# for i in range(10):\n",
    "#     x = np.array(geo_df[geo_df['cluster_n'] == i]['Latitude'])\n",
    "#     y = np.array(geo_df[geo_df['cluster_n'] == i]['Longitude'])\n",
    "#     plt.scatter(x, y, c=colors[i], alpha=0.5)\n",
    "# plt.show()"
   ]
  },
  {
   "cell_type": "code",
   "execution_count": 105,
   "metadata": {},
   "outputs": [],
   "source": [
    "def add_distance(df):\n",
    "    df_center = pd.DataFrame({\"Atlanta\":[33.753746, -84.386330], \n",
    "                            \"Boston\":[42.361145, -71.057083], \n",
    "                                \"Chicago\":[41.881832, -87.623177], \n",
    "                                  \"Philadelphia\":[39.952583, -75.165222]})\n",
    "    df[\"CenterDistance\"] = df.apply(lambda row: math.sqrt((df_center[row.City][0] - row.Latitude) ** 2 +\n",
    "                                                              (df_center[row.City][1] - row.Longitude) ** 2) , axis=1)\n",
    "add_distance(train_data)\n",
    "add_distance(test_data)"
   ]
  },
  {
   "cell_type": "code",
   "execution_count": 14,
   "metadata": {},
   "outputs": [],
   "source": [
    "feature_cols = ['Latitude', 'Longitude', 'EntryHeading_x', 'EntryHeading_y',\n",
    "                'ExitHeading_x', 'ExitHeading_y', 'city_code', 'Hour', 'Weekend', \n",
    "                'Month', 'city_pos', 'UniqueId', 'CenterDistance', 'hour_class']\n",
    "target_cols = [\n",
    "    'TotalTimeStopped_p20',\n",
    "    'TotalTimeStopped_p50',\n",
    "    'TotalTimeStopped_p80',\n",
    "    'DistanceToFirstStop_p20',\n",
    "    'DistanceToFirstStop_p50',\n",
    "    'DistanceToFirstStop_p80',\n",
    "]"
   ]
  },
  {
   "cell_type": "code",
   "execution_count": 18,
   "metadata": {},
   "outputs": [],
   "source": [
    "categorical_features = ['UniqueId', 'city_code', 'Hour', 'Weekend', 'Month', 'city_pos', 'hour_class']"
   ]
  },
  {
   "cell_type": "code",
   "execution_count": 12,
   "metadata": {},
   "outputs": [],
   "source": [
    "train_size = int(len(train_data) * 0.7)"
   ]
  },
  {
   "cell_type": "code",
   "execution_count": 15,
   "metadata": {},
   "outputs": [],
   "source": [
    "X_train = train_data.iloc[:train_size][feature_cols]\n",
    "y_train = train_data.iloc[:train_size][target_cols]\n",
    "X_val = train_data.iloc[train_size:][feature_cols]\n",
    "y_val = train_data.iloc[train_size:][target_cols]\n",
    "X_test = test_data[feature_cols]"
   ]
  },
  {
   "cell_type": "code",
   "execution_count": 19,
   "metadata": {},
   "outputs": [],
   "source": [
    "def lgb_model(params, lgb_train, lgb_val, model_name='', boost_round=2000, early_stop=20, verbose_eval=200):\n",
    "    print('Starting training...')\n",
    "    gbm = lgb.train(params,\n",
    "                lgb_train,\n",
    "                num_boost_round=boost_round,\n",
    "                valid_sets=lgb_val,\n",
    "                early_stopping_rounds=early_stop, verbose_eval=200)\n",
    "\n",
    "    print('Saving model...')\n",
    "    # save model to file\n",
    "    if model_name != '':\n",
    "        gbm.save_model('{}.txt'.format(model_name))\n",
    "    # eval\n",
    "#     print('The rmse of prediction is:', mean_squared_error(y_test, y_pred) ** 0.5)\n",
    "    return gbm"
   ]
  },
  {
   "cell_type": "code",
   "execution_count": 20,
   "metadata": {},
   "outputs": [],
   "source": [
    "# create dataset for lightgbm\n",
    "lgb_train = lgb.Dataset(X_train, y_train['TotalTimeStopped_p20'], \n",
    "                        categorical_feature=categorical_features, free_raw_data=False)\n",
    "lgb_val = lgb.Dataset(X_val, y_val['TotalTimeStopped_p20'], reference=lgb_train)\n",
    "\n",
    "# specify your configurations as a dict\n",
    "params = {\n",
    "    'boosting_type': 'gbdt',\n",
    "    'objective': 'regression',\n",
    "    'metric': {'rmse'},\n",
    "    'num_leaves': 50,\n",
    "    'learning_rate': 0.05,\n",
    "    'feature_fraction': 0.9,\n",
    "    'bagging_fraction': 0.8,\n",
    "    'bagging_freq': 5,\n",
    "    'verbose': 1\n",
    "}"
   ]
  },
  {
   "cell_type": "code",
   "execution_count": 21,
   "metadata": {},
   "outputs": [],
   "source": [
    "def lgb_objective(params, lgb_train, lgb_val, X_val, y_val):\n",
    "    gbm = lgb_model(params, lgb_train, lgb_val)\n",
    "    y_pred = gbm.predict(X_val, num_iteration=gbm.best_iteration)\n",
    "    rmse_val = mean_squared_error(y_val, y_pred) ** 0.5\n",
    "    return {'loss': rmse_val ,  'status': STATUS_OK}"
   ]
  },
  {
   "cell_type": "code",
   "execution_count": 22,
   "metadata": {},
   "outputs": [],
   "source": [
    "# using hyperopt to tune parameters of LightGBM\n",
    "def hyperopt_lgb(lgb_objective, lgb_train, lgb_val, X_val, y_val):\n",
    "    space = {'objective': 'regression',\n",
    "             'metric':'rmse',\n",
    "             'boosting':'gbdt',\n",
    "             'num_leaves': hp.choice('num_leaves', list(range(20, 180, 20))),\n",
    "             'feature_fraction': hp.choice('feature_fraction', [.7, .8, .9, 1]),\n",
    "             'bagging_fraction': hp.uniform('bagging_fraction', 0.7, 1),\n",
    "             'learning_rate': hp.uniform('learning_rate', 0.03, 0.12),\n",
    "            }\n",
    "    fmin_objective = partial(lgb_objective,lgb_train=lgb_train, lgb_val=lgb_val, X_val=X_val, y_val=y_val)\n",
    "    best_vals = fmin(fmin_objective, space, algo=tpe.suggest, max_evals=10)\n",
    "    best_params = space_eval(space, best_vals)\n",
    "    return best_params"
   ]
  },
  {
   "cell_type": "code",
   "execution_count": null,
   "metadata": {},
   "outputs": [
    {
     "name": "stdout",
     "output_type": "stream",
     "text": [
      "Target: TotalTimeStopped_p20\n",
      "Starting training...\n"
     ]
    },
    {
     "name": "stderr",
     "output_type": "stream",
     "text": [
      "/home/xiongzz/anaconda3/lib/python3.6/site-packages/lightgbm/basic.py:1291: UserWarning: Using categorical_feature in Dataset.\n",
      "  warnings.warn('Using categorical_feature in Dataset.')\n",
      "/home/xiongzz/anaconda3/lib/python3.6/site-packages/lightgbm/basic.py:1295: UserWarning: categorical_feature in Dataset is overridden.\n",
      "New categorical_feature is ['Hour', 'Month', 'UniqueId', 'Weekend', 'city_code', 'city_pos', 'hour_class']\n",
      "  'New categorical_feature is {}'.format(sorted(list(categorical_feature))))\n"
     ]
    },
    {
     "name": "stdout",
     "output_type": "stream",
     "text": [
      "Training until validation scores don't improve for 20 rounds\n",
      "[200]\tvalid_0's rmse: 6.04853\n",
      "[400]\tvalid_0's rmse: 5.94412\n",
      "[600]\tvalid_0's rmse: 5.88258\n",
      "[800]\tvalid_0's rmse: 5.83812\n",
      "[1000]\tvalid_0's rmse: 5.808\n",
      "[1200]\tvalid_0's rmse: 5.77716\n",
      "[1400]\tvalid_0's rmse: 5.74717\n",
      "[1600]\tvalid_0's rmse: 5.73068\n",
      "[1800]\tvalid_0's rmse: 5.7056\n",
      "[2000]\tvalid_0's rmse: 5.69773\n",
      "Did not meet early stopping. Best iteration is:\n",
      "[2000]\tvalid_0's rmse: 5.69773\n",
      "Saving model...\n",
      "Starting training...\n",
      "Training until validation scores don't improve for 20 rounds\n"
     ]
    },
    {
     "name": "stderr",
     "output_type": "stream",
     "text": [
      "/home/xiongzz/anaconda3/lib/python3.6/site-packages/lightgbm/basic.py:1291: UserWarning: Using categorical_feature in Dataset.\n",
      "  warnings.warn('Using categorical_feature in Dataset.')\n"
     ]
    },
    {
     "name": "stdout",
     "output_type": "stream",
     "text": [
      "[200]\tvalid_0's rmse: 5.75637\n",
      "[400]\tvalid_0's rmse: 5.69289\n",
      "[600]\tvalid_0's rmse: 5.64635\n",
      "[800]\tvalid_0's rmse: 5.61988\n",
      "[1000]\tvalid_0's rmse: 5.61149\n",
      "[1200]\tvalid_0's rmse: 5.60394\n",
      "Early stopping, best iteration is:\n",
      "[1297]\tvalid_0's rmse: 5.59859\n",
      "Saving model...\n",
      "Starting training...\n",
      "Training until validation scores don't improve for 20 rounds\n"
     ]
    },
    {
     "name": "stderr",
     "output_type": "stream",
     "text": [
      "/home/xiongzz/anaconda3/lib/python3.6/site-packages/lightgbm/basic.py:1291: UserWarning: Using categorical_feature in Dataset.\n",
      "  warnings.warn('Using categorical_feature in Dataset.')\n"
     ]
    },
    {
     "name": "stdout",
     "output_type": "stream",
     "text": [
      "[200]\tvalid_0's rmse: 5.81335\n",
      "[400]\tvalid_0's rmse: 5.75804\n",
      "[600]\tvalid_0's rmse: 5.70824\n",
      "[800]\tvalid_0's rmse: 5.68208\n",
      "[1000]\tvalid_0's rmse: 5.66153\n",
      "[1200]\tvalid_0's rmse: 5.64382\n",
      "[1400]\tvalid_0's rmse: 5.63488\n",
      "[1600]\tvalid_0's rmse: 5.62044\n",
      "Early stopping, best iteration is:\n",
      "[1634]\tvalid_0's rmse: 5.61957\n",
      "Saving model...\n",
      "Starting training...\n",
      "Training until validation scores don't improve for 20 rounds\n"
     ]
    },
    {
     "name": "stderr",
     "output_type": "stream",
     "text": [
      "/home/xiongzz/anaconda3/lib/python3.6/site-packages/lightgbm/basic.py:1291: UserWarning: Using categorical_feature in Dataset.\n",
      "  warnings.warn('Using categorical_feature in Dataset.')\n"
     ]
    },
    {
     "name": "stdout",
     "output_type": "stream",
     "text": [
      "[200]\tvalid_0's rmse: 6.35113\n",
      "[400]\tvalid_0's rmse: 6.20911\n",
      "[600]\tvalid_0's rmse: 6.14716\n",
      "[800]\tvalid_0's rmse: 6.09525\n",
      "[1000]\tvalid_0's rmse: 6.04999\n",
      "[1200]\tvalid_0's rmse: 6.02103\n",
      "[1400]\tvalid_0's rmse: 5.99663\n",
      "[1600]\tvalid_0's rmse: 5.97911\n",
      "[1800]\tvalid_0's rmse: 5.9598\n",
      "[2000]\tvalid_0's rmse: 5.9433\n",
      "Did not meet early stopping. Best iteration is:\n",
      "[2000]\tvalid_0's rmse: 5.9433\n",
      "Saving model...\n",
      "Starting training...\n",
      "Training until validation scores don't improve for 20 rounds\n"
     ]
    },
    {
     "name": "stderr",
     "output_type": "stream",
     "text": [
      "/home/xiongzz/anaconda3/lib/python3.6/site-packages/lightgbm/basic.py:1291: UserWarning: Using categorical_feature in Dataset.\n",
      "  warnings.warn('Using categorical_feature in Dataset.')\n"
     ]
    },
    {
     "name": "stdout",
     "output_type": "stream",
     "text": [
      "[200]\tvalid_0's rmse: 5.91721\n",
      "[400]\tvalid_0's rmse: 5.82052\n",
      "[600]\tvalid_0's rmse: 5.76799\n",
      "[800]\tvalid_0's rmse: 5.67968\n",
      "[1000]\tvalid_0's rmse: 5.65567\n",
      "[1200]\tvalid_0's rmse: 5.63561\n",
      "[1400]\tvalid_0's rmse: 5.61916\n",
      "Early stopping, best iteration is:\n",
      "[1485]\tvalid_0's rmse: 5.61529\n",
      "Saving model...\n",
      "Starting training...\n",
      "Training until validation scores don't improve for 20 rounds\n"
     ]
    },
    {
     "name": "stderr",
     "output_type": "stream",
     "text": [
      "/home/xiongzz/anaconda3/lib/python3.6/site-packages/lightgbm/basic.py:1291: UserWarning: Using categorical_feature in Dataset.\n",
      "  warnings.warn('Using categorical_feature in Dataset.')\n"
     ]
    },
    {
     "name": "stdout",
     "output_type": "stream",
     "text": [
      "[200]\tvalid_0's rmse: 5.80994\n",
      "[400]\tvalid_0's rmse: 5.69372\n",
      "[600]\tvalid_0's rmse: 5.64218\n",
      "[800]\tvalid_0's rmse: 5.60405\n",
      "[1000]\tvalid_0's rmse: 5.58852\n",
      "[1200]\tvalid_0's rmse: 5.57816\n",
      "Early stopping, best iteration is:\n",
      "[1263]\tvalid_0's rmse: 5.5776\n",
      "Saving model...\n",
      "Starting training...\n",
      "Training until validation scores don't improve for 20 rounds\n"
     ]
    },
    {
     "name": "stderr",
     "output_type": "stream",
     "text": [
      "/home/xiongzz/anaconda3/lib/python3.6/site-packages/lightgbm/basic.py:1291: UserWarning: Using categorical_feature in Dataset.\n",
      "  warnings.warn('Using categorical_feature in Dataset.')\n"
     ]
    },
    {
     "name": "stdout",
     "output_type": "stream",
     "text": [
      "[200]\tvalid_0's rmse: 5.90853\n",
      "[400]\tvalid_0's rmse: 5.7324\n",
      "[600]\tvalid_0's rmse: 5.67969\n",
      "[800]\tvalid_0's rmse: 5.65319\n",
      "[1000]\tvalid_0's rmse: 5.6264\n",
      "[1200]\tvalid_0's rmse: 5.61222\n",
      "[1400]\tvalid_0's rmse: 5.60471\n",
      "[1600]\tvalid_0's rmse: 5.59965\n",
      "Early stopping, best iteration is:\n",
      "[1728]\tvalid_0's rmse: 5.59597\n",
      "Saving model...\n",
      "Starting training...\n",
      "Training until validation scores don't improve for 20 rounds\n"
     ]
    },
    {
     "name": "stderr",
     "output_type": "stream",
     "text": [
      "/home/xiongzz/anaconda3/lib/python3.6/site-packages/lightgbm/basic.py:1291: UserWarning: Using categorical_feature in Dataset.\n",
      "  warnings.warn('Using categorical_feature in Dataset.')\n"
     ]
    },
    {
     "name": "stdout",
     "output_type": "stream",
     "text": [
      "[200]\tvalid_0's rmse: 5.80655\n",
      "[400]\tvalid_0's rmse: 5.72578\n",
      "[600]\tvalid_0's rmse: 5.68696\n",
      "[800]\tvalid_0's rmse: 5.65313\n",
      "[1000]\tvalid_0's rmse: 5.63961\n",
      "Early stopping, best iteration is:\n",
      "[1067]\tvalid_0's rmse: 5.63742\n",
      "Saving model...\n",
      "Starting training...\n",
      "Training until validation scores don't improve for 20 rounds\n"
     ]
    },
    {
     "name": "stderr",
     "output_type": "stream",
     "text": [
      "/home/xiongzz/anaconda3/lib/python3.6/site-packages/lightgbm/basic.py:1291: UserWarning: Using categorical_feature in Dataset.\n",
      "  warnings.warn('Using categorical_feature in Dataset.')\n"
     ]
    },
    {
     "name": "stdout",
     "output_type": "stream",
     "text": [
      "[200]\tvalid_0's rmse: 6.15079\n",
      "[400]\tvalid_0's rmse: 6.03247\n",
      "[600]\tvalid_0's rmse: 5.95248\n",
      "[800]\tvalid_0's rmse: 5.90041\n",
      "[1000]\tvalid_0's rmse: 5.86864\n",
      "[1200]\tvalid_0's rmse: 5.83537\n",
      "[1400]\tvalid_0's rmse: 5.80911\n",
      "[1600]\tvalid_0's rmse: 5.78481\n",
      "[1800]\tvalid_0's rmse: 5.77194\n",
      "[2000]\tvalid_0's rmse: 5.74577\n",
      "Did not meet early stopping. Best iteration is:\n",
      "[2000]\tvalid_0's rmse: 5.74577\n",
      "Saving model...\n",
      "Starting training...\n",
      "Training until validation scores don't improve for 20 rounds\n"
     ]
    },
    {
     "name": "stderr",
     "output_type": "stream",
     "text": [
      "/home/xiongzz/anaconda3/lib/python3.6/site-packages/lightgbm/basic.py:1291: UserWarning: Using categorical_feature in Dataset.\n",
      "  warnings.warn('Using categorical_feature in Dataset.')\n"
     ]
    },
    {
     "name": "stdout",
     "output_type": "stream",
     "text": [
      "[200]\tvalid_0's rmse: 5.67093\n",
      "Early stopping, best iteration is:\n",
      "[331]\tvalid_0's rmse: 5.63544\n",
      "Saving model...\n",
      "{'bagging_fraction': 0.9311084425834824, 'boosting': 'gbdt', 'feature_fraction': 1, 'learning_rate': 0.040405727551738074, 'metric': 'rmse', 'num_leaves': 140, 'objective': 'regression'}\n",
      "Target: TotalTimeStopped_p50\n",
      "Starting training...\n"
     ]
    },
    {
     "name": "stderr",
     "output_type": "stream",
     "text": [
      "/home/xiongzz/anaconda3/lib/python3.6/site-packages/lightgbm/basic.py:1291: UserWarning: Using categorical_feature in Dataset.\n",
      "  warnings.warn('Using categorical_feature in Dataset.')\n",
      "/home/xiongzz/anaconda3/lib/python3.6/site-packages/lightgbm/basic.py:1295: UserWarning: categorical_feature in Dataset is overridden.\n",
      "New categorical_feature is ['Hour', 'Month', 'UniqueId', 'Weekend', 'city_code', 'city_pos', 'hour_class']\n",
      "  'New categorical_feature is {}'.format(sorted(list(categorical_feature))))\n"
     ]
    },
    {
     "name": "stdout",
     "output_type": "stream",
     "text": [
      "Training until validation scores don't improve for 20 rounds\n",
      "[200]\tvalid_0's rmse: 10.403\n",
      "[400]\tvalid_0's rmse: 10.1481\n",
      "[600]\tvalid_0's rmse: 10.0542\n"
     ]
    }
   ],
   "source": [
    "# tune lightGBM parameters\n",
    "for i, target in enumerate(target_cols):\n",
    "    print(\"Target: {}\".format(target))\n",
    "    lgb_train = lgb.Dataset(X_train, y_train[target], \n",
    "                        categorical_feature=categorical_features, free_raw_data=False)\n",
    "    lgb_val = lgb.Dataset(X_val, y_val[target], reference=lgb_train)\n",
    "    best_params = hyperopt_lgb(lgb_objective, lgb_train, lgb_val, X_val, y_val[target])\n",
    "    file_name='{}_lgb_params_14features.txt'.format(target)\n",
    "    with open(file_name, 'w') as f:\n",
    "        f.write(json.dumps(best_params)) \n",
    "    print(best_params)"
   ]
  },
  {
   "cell_type": "code",
   "execution_count": 177,
   "metadata": {},
   "outputs": [
    {
     "name": "stdout",
     "output_type": "stream",
     "text": [
      "Target: TotalTimeStopped_p20\n",
      "Starting training...\n"
     ]
    },
    {
     "name": "stderr",
     "output_type": "stream",
     "text": [
      "/Users/xiongzhongzheng/opt/anaconda3/lib/python3.7/site-packages/lightgbm/basic.py:1295: UserWarning: categorical_feature in Dataset is overridden.\n",
      "New categorical_feature is ['Hour', 'Month', 'UniqueId', 'Weekend', 'city_code', 'city_pos', 'hour_class']\n",
      "  'New categorical_feature is {}'.format(sorted(list(categorical_feature))))\n"
     ]
    },
    {
     "name": "stdout",
     "output_type": "stream",
     "text": [
      "Training until validation scores don't improve for 20 rounds\n",
      "[200]\tvalid_0's rmse: 5.7159\n",
      "[400]\tvalid_0's rmse: 5.64164\n",
      "[600]\tvalid_0's rmse: 5.61648\n",
      "[800]\tvalid_0's rmse: 5.59479\n",
      "[1000]\tvalid_0's rmse: 5.57975\n",
      "Early stopping, best iteration is:\n",
      "[1163]\tvalid_0's rmse: 5.5708\n",
      "Saving model...\n",
      "Starting predicting...\n",
      "Target: TotalTimeStopped_p50\n",
      "Starting training...\n",
      "Training until validation scores don't improve for 20 rounds\n",
      "[200]\tvalid_0's rmse: 10.4649\n",
      "[400]\tvalid_0's rmse: 10.1139\n",
      "[600]\tvalid_0's rmse: 9.99422\n",
      "[800]\tvalid_0's rmse: 9.93252\n",
      "[1000]\tvalid_0's rmse: 9.87061\n",
      "[1200]\tvalid_0's rmse: 9.81012\n",
      "[1400]\tvalid_0's rmse: 9.74984\n",
      "[1600]\tvalid_0's rmse: 9.71671\n",
      "[1800]\tvalid_0's rmse: 9.69315\n",
      "[2000]\tvalid_0's rmse: 9.6822\n",
      "Did not meet early stopping. Best iteration is:\n",
      "[1997]\tvalid_0's rmse: 9.68219\n",
      "Saving model...\n",
      "Starting predicting...\n",
      "Target: TotalTimeStopped_p80\n",
      "Starting training...\n",
      "Training until validation scores don't improve for 20 rounds\n",
      "[200]\tvalid_0's rmse: 17.4847\n",
      "[400]\tvalid_0's rmse: 17.1064\n",
      "[600]\tvalid_0's rmse: 16.9137\n",
      "[800]\tvalid_0's rmse: 16.7709\n",
      "[1000]\tvalid_0's rmse: 16.7038\n",
      "[1200]\tvalid_0's rmse: 16.654\n",
      "[1400]\tvalid_0's rmse: 16.6193\n",
      "[1600]\tvalid_0's rmse: 16.5897\n",
      "[1800]\tvalid_0's rmse: 16.5653\n",
      "Early stopping, best iteration is:\n",
      "[1975]\tvalid_0's rmse: 16.5366\n",
      "Saving model...\n",
      "Starting predicting...\n",
      "Target: DistanceToFirstStop_p20\n",
      "Starting training...\n",
      "Training until validation scores don't improve for 20 rounds\n",
      "[200]\tvalid_0's rmse: 23.4935\n",
      "Early stopping, best iteration is:\n",
      "[271]\tvalid_0's rmse: 23.4407\n",
      "Saving model...\n",
      "Starting predicting...\n",
      "Target: DistanceToFirstStop_p50\n",
      "Starting training...\n",
      "Training until validation scores don't improve for 20 rounds\n",
      "[200]\tvalid_0's rmse: 49.1282\n",
      "Early stopping, best iteration is:\n",
      "[243]\tvalid_0's rmse: 49.0182\n",
      "Saving model...\n",
      "Starting predicting...\n",
      "Target: DistanceToFirstStop_p80\n",
      "Starting training...\n",
      "Training until validation scores don't improve for 20 rounds\n",
      "[200]\tvalid_0's rmse: 84.7976\n",
      "[400]\tvalid_0's rmse: 83.092\n",
      "Early stopping, best iteration is:\n",
      "[523]\tvalid_0's rmse: 82.6896\n",
      "Saving model...\n",
      "Starting predicting...\n"
     ]
    }
   ],
   "source": [
    "submissions = []\n",
    "for i, target in enumerate(target_cols):\n",
    "    print(\"Target: {}\".format(target))\n",
    "    lgb_train = lgb.Dataset(X_train, y_train[target], \n",
    "                        categorical_feature=categorical_features, free_raw_data=False)\n",
    "    lgb_val = lgb.Dataset(X_val, y_val[target], reference=lgb_train)\n",
    "    f = open('{}_lgb_params_new.txt'.format(target), 'r')\n",
    "    dic_str = f.readline()\n",
    "    params = json.loads(dic_str)\n",
    "    f.close()\n",
    "    gbm = lgb_model(params, lgb_train, lgb_val, target, boost_round=2000)\n",
    "    print('Starting predicting...')\n",
    "    y_pred = gbm.predict(X_test, num_iteration=gbm.best_iteration)\n",
    "    sub_target_id = list(test_data['RowId'].apply(lambda x: '{}_{}'.format(x, i)).values)\n",
    "    sub_target_df = pd.DataFrame({'TargetId': sub_target_id, 'Target': y_pred})\n",
    "    submissions.append(sub_target_df)"
   ]
  },
  {
   "cell_type": "code",
   "execution_count": 178,
   "metadata": {},
   "outputs": [],
   "source": [
    "pd.concat(submissions).to_csv('submission_lgb_fine_tuned_14features.csv', index=False)"
   ]
  },
  {
   "cell_type": "code",
   "execution_count": 179,
   "metadata": {},
   "outputs": [],
   "source": [
    "train_data.to_csv('train_14_features.csv', index=False)\n",
    "test_data.to_csv('test_14_features.csv', index=False)"
   ]
  }
 ],
 "metadata": {
  "kernelspec": {
   "display_name": "Python 3",
   "language": "python",
   "name": "python3"
  },
  "language_info": {
   "codemirror_mode": {
    "name": "ipython",
    "version": 3
   },
   "file_extension": ".py",
   "mimetype": "text/x-python",
   "name": "python",
   "nbconvert_exporter": "python",
   "pygments_lexer": "ipython3",
   "version": "3.7.4"
  }
 },
 "nbformat": 4,
 "nbformat_minor": 2
}
